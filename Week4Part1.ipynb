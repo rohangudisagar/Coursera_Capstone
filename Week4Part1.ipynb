{
 "cells": [
  {
   "cell_type": "markdown",
   "metadata": {
    "collapsed": true
   },
   "source": [
    "<h1> Week 4: The Battle of Neighborhoods"
   ]
  },
  {
   "cell_type": "markdown",
   "metadata": {},
   "source": [
    "<h2> Part 1"
   ]
  },
  {
   "cell_type": "markdown",
   "metadata": {},
   "source": [
    "<h2>Title : Chinese Restaurant in Bangalore"
   ]
  },
  {
   "cell_type": "markdown",
   "metadata": {},
   "source": [
    "<h2> Problem Background"
   ]
  },
  {
   "cell_type": "markdown",
   "metadata": {},
   "source": [
    "Bangalore, officially known as Bengaluru, is the capital of the Indian state of Karnataka. It has a population of more than 8 million and a metropolitan population of around 11 million, making it the third most populous city and fifth most populous urban agglomeration in India.Located in southern India on the Deccan Plateau, at a height of over 900 m above sea level, Bangalore is known for its pleasant climate throughout the year. Its elevation is the highest among the major cities of India\n",
    "    A little more than four in 10 people of Bengaluru are considered migrants, and the percentage of people categorised as migrants has shot up by nearly 12 percentage points in a decade.This was revealed in the recently released Census 2011 data on migration into cities and States.\n",
    "\n",
    "With 42.12% of Greater Bengaluru’s population originating from outside the district or outside the State, the urban agglomeration ranks second among comparable metros with migrant populations."
   ]
  },
  {
   "cell_type": "markdown",
   "metadata": {},
   "source": [
    "Bangalore is known not only as the IT Sector, but also a foodie’s haven. The street food here is amazing, fulfilling, and available at budget friendly prices. The diversity of the cuisine available is reflective of the social and economic diversity of Bengaluru. Roadside vendors, tea stalls, South Indian, North Indian, Arabic food, Chinese and Western fast food are all very popular in the city. Udupi restaurants, are very popular and serve predominantly vegetarian cuisine. The Chinese food and the Thai food served in most of the restaurants can be customised to cater to the tastes of the Indian population. Bengaluru can also be called a foodie's paradise because of its vast variety of foods and edibles with a touch of Bengaluru's uniqueness and tradition"
   ]
  },
  {
   "cell_type": "markdown",
   "metadata": {},
   "source": [
    "<h2> Problem Description\n"
   ]
  },
  {
   "cell_type": "markdown",
   "metadata": {},
   "source": [
    "Let us assume that I wanna open a Chinese restarant in the city. Figuring out a place to invest in takes a heavy toll and a thorough research must be done which can take a long time. Many factors, play a role here, like the population of the location where the retaurant is to be opened, the existing restaurants and places in and around the area. Hence, there are a few questions that must be addressed before we proceed: \n",
    "\n",
    "1. Which are has more population?\n",
    "2. Which area in the city has more facilities and stores, which will attract more crowd?\n",
    "3. Are there any chinese restaurants existing in the area?\n",
    "4. Do the similar restaurants cost more?"
   ]
  },
  {
   "cell_type": "markdown",
   "metadata": {},
   "source": [
    "To address these questions the restaurant company decides to find a solution and can recommend an apt place for opening a chinese restaurant in the bangalore city. \n",
    "The questions that I expect answered from this project are:\n",
    "1. Which area in the city has more venues? (making it suitable for the restaurant start up)\n",
    "2. Which location in the city is densely populated."
   ]
  },
  {
   "cell_type": "code",
   "execution_count": null,
   "metadata": {},
   "outputs": [],
   "source": []
  }
 ],
 "metadata": {
  "kernelspec": {
   "display_name": "Python 3.7",
   "language": "python",
   "name": "python3"
  },
  "language_info": {
   "codemirror_mode": {
    "name": "ipython",
    "version": 3
   },
   "file_extension": ".py",
   "mimetype": "text/x-python",
   "name": "python",
   "nbconvert_exporter": "python",
   "pygments_lexer": "ipython3",
   "version": "3.7.9"
  }
 },
 "nbformat": 4,
 "nbformat_minor": 1
}
